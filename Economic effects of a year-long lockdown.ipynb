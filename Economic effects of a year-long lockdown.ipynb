{
 "cells": [
  {
   "cell_type": "markdown",
   "metadata": {},
   "source": [
    "# Economic Effects of a Year-Long Lockdown\n",
    "\n"
   ]
  },
  {
   "cell_type": "markdown",
   "metadata": {},
   "source": [
    "### 1. Import those data from GDP_cycle.csv.  This is a list of 292 numbers\n",
    "\n",
    "### 2. Plot and make a histogram with five bins.  Each bin will be a state.  The lowest bin is the Covid state; it only has one observation."
   ]
  },
  {
   "cell_type": "code",
   "execution_count": 11,
   "metadata": {},
   "outputs": [],
   "source": [
    "import pandas as pd\n",
    "import numpy as np\n",
    "import matplotlib.pyplot as plt\n",
    "df = pd.read_csv('GDP_cycle.csv')"
   ]
  },
  {
   "cell_type": "code",
   "execution_count": 12,
   "metadata": {},
   "outputs": [
    {
     "name": "stdout",
     "output_type": "stream",
     "text": [
      "count in each state [  1.   9.  43. 172.  67.]\n"
     ]
    },
    {
     "data": {
      "image/png": "[encoded data removed]",
      "text/plain": [
       "<Figure size 432x288 with 1 Axes>"
      ]
     },
     "metadata": {
      "needs_background": "light"
     },
     "output_type": "display_data"
    }
   ],
   "source": [
    "\n",
    "(n, bins, hist) = plt.hist(df['GDP cycle'],bins = 5)\n",
    "plt.title('Histogram of 5 states in GDP cycle')\n",
    "print('count in each state',plt.hist(df['GDP cycle'],bins = 5)[0])"
   ]
  },
  {
   "cell_type": "markdown",
   "metadata": {},
   "source": [
    "### 3. Classify the states. "
   ]
  },
  {
   "cell_type": "code",
   "execution_count": 13,
   "metadata": {},
   "outputs": [
    {
     "data": {
      "text/plain": [
       "array([-0.08663752, -0.06186674, -0.03709595, -0.01232517,  0.01244561,\n",
       "        0.0372164 ])"
      ]
     },
     "execution_count": 13,
     "metadata": {},
     "output_type": "execute_result"
    }
   ],
   "source": [
    "df = df.rename(columns = {'Unnamed: 0':'Date'})\n",
    "bins #we'll be using these bin borders to classify"
   ]
  },
  {
   "cell_type": "code",
   "execution_count": 14,
   "metadata": {},
   "outputs": [],
   "source": [
    "means = pd.DataFrame(np.zeros((5,1)))\n",
    "df['state'] = 6\n",
    "\n",
    "for i in range(0,292):\n",
    "    if df.loc[i,'GDP cycle'] < -0.06186674:\n",
    "        df.loc[i,'state'] = 0\n",
    "    if df.loc[i,'GDP cycle'] > -0.06186674 and df.loc[i,'GDP cycle'] < -0.03709595:\n",
    "        df.loc[i,'state'] = 1\n",
    "    if df.loc[i,'GDP cycle'] > -0.03709595 and df.loc[i,'GDP cycle'] < -0.01232517:\n",
    "        df.loc[i,'state'] = 2\n",
    "    if df.loc[i,'GDP cycle'] > -0.01232517 and df.loc[i,'GDP cycle'] < 0.01244561:\n",
    "        df.loc[i,'state'] = 3\n",
    "    if df.loc[i,'GDP cycle'] > 0.01244561 and df.loc[i,'GDP cycle'] < 0.0372164:\n",
    "        df.loc[i,'state'] = 4\n",
    "#kind of an ugly way to classify them with the histogram bins but it works"
   ]
  },
  {
   "cell_type": "markdown",
   "metadata": {
    "scrolled": true
   },
   "source": [
    "## 4. Estimate the Markov matrix, and find its ergodic distribution  Report the long-run probability of being in a Covid state."
   ]
  },
  {
   "cell_type": "code",
   "execution_count": 15,
   "metadata": {},
   "outputs": [
    {
     "data": {
      "text/plain": [
       "array([[  0.,   0.,   1.,   0.,   0.],\n",
       "       [  0.,   5.,   4.,   0.,   0.],\n",
       "       [  0.,   3.,  27.,  13.,   0.],\n",
       "       [  1.,   1.,  11., 140.,  18.],\n",
       "       [  0.,   0.,   0.,  19.,  48.]])"
      ]
     },
     "execution_count": 15,
     "metadata": {},
     "output_type": "execute_result"
    }
   ],
   "source": [
    "#I'm just going to do the same method I used in homework 4.\n",
    "counts = np.zeros((5,5))\n",
    "for i in range (1,292): #there are only 291 transitions.\n",
    "    today = df.loc[i-1,'state'] #this just helps me visualize the loop easier. I could probably write this all in one line.\n",
    "    tomorrow = df.loc[i,'state']\n",
    "    counts[today,tomorrow] =  counts[today,tomorrow] + 1\n",
    "counts"
   ]
  },
  {
   "cell_type": "code",
   "execution_count": 125,
   "metadata": {
    "scrolled": false
   },
   "outputs": [
    {
     "data": {
      "text/plain": [
       "array([[0.        , 0.        , 1.        , 0.        , 0.        ],\n",
       "       [0.        , 0.55555556, 0.44444444, 0.        , 0.        ],\n",
       "       [0.        , 0.06976744, 0.62790698, 0.30232558, 0.        ],\n",
       "       [0.00584795, 0.00584795, 0.06432749, 0.81871345, 0.10526316],\n",
       "       [0.        , 0.        , 0.        , 0.28358209, 0.71641791]])"
      ]
     },
     "execution_count": 125,
     "metadata": {},
     "output_type": "execute_result"
    }
   ],
   "source": [
    "M = np.zeros((5,5))\n",
    "for i in range (0,5):\n",
    "    for j in range(0,5):\n",
    "        M[i,j] = counts[i,j]/sum(counts[i,:])\n",
    "M"
   ]
  },
  {
   "cell_type": "code",
   "execution_count": 151,
   "metadata": {
    "scrolled": true
   },
   "outputs": [
    {
     "data": {
      "text/plain": [
       "array([[0.00347858],\n",
       "       [0.03130721],\n",
       "       [0.14957891],\n",
       "       [0.59483706],\n",
       "       [0.22079824]])"
      ]
     },
     "execution_count": 151,
     "metadata": {},
     "output_type": "execute_result"
    }
   ],
   "source": [
    "def ergodic(m):\n",
    "    \"\"\"\n",
    "    This code finds the ergodic distribution of a Markov matrix\n",
    "    \"\"\"\n",
    "    n=m.shape[0] # number of rows\n",
    "    T = 1000 # useful constant\n",
    "    eps=0.0001 #useful constant\n",
    "    if (m.shape[0] != m.shape[1]): #test for a square matrix\n",
    "        return('Matrix is not square') \n",
    "    if (not (np.matmul(m,np.ones(n))==1).all()): #test row sums \n",
    "        return('This is not a Markov matrix')\n",
    "    if( not ((m >= 0).all() and (m <= 1).all())): #test probabilities\n",
    "        return('This is not a Markov matrix')\n",
    "    m_long = np.linalg.matrix_power(m,T)\n",
    "    if( not ((m_long > 0).all() and (m_long < 1).all())): #crude test for aperiodic and irreducible\n",
    "        return('This matrix may not be both aperiodic and irreducible')\n",
    "    w,v = np.linalg.eig(m.T) #Need the left eigenvector; that's why we transpose\n",
    "    choose = (abs(w-1) < eps)\n",
    "    m_long = v[:,choose]/sum(v[:,choose])  #Need to make the eigenvector into a probability vector.\n",
    "    return(m_long)\n",
    "ergodic(M).real"
   ]
  },
  {
   "cell_type": "code",
   "execution_count": 18,
   "metadata": {},
   "outputs": [],
   "source": [
    "consumption = np.zeros((5,1))\n",
    "for i in range(0,5):\n",
    "    consumption[i] = np.mean(df.loc[df['state'] == i,'GDP cycle'])\n",
    "\n",
    "consumption = np.exp(consumption)"
   ]
  },
  {
   "cell_type": "code",
   "execution_count": 19,
   "metadata": {
    "scrolled": true
   },
   "outputs": [
    {
     "data": {
      "text/plain": [
       "array([[0.91700943],\n",
       "       [0.95784949],\n",
       "       [0.97929425],\n",
       "       [1.00027525],\n",
       "       [1.01999697]])"
      ]
     },
     "execution_count": 19,
     "metadata": {},
     "output_type": "execute_result"
    }
   ],
   "source": [
    "consumption"
   ]
  },
  {
   "cell_type": "markdown",
   "metadata": {},
   "source": [
    "### 6. Here's the asset pricing kernel.  Explain why the diagonal elements are all the same.  Explain also why the matrix is not symmetric.  Explain how the kernel depends upon the Markov matrix. "
   ]
  },
  {
   "cell_type": "code",
   "execution_count": 20,
   "metadata": {},
   "outputs": [],
   "source": [
    "K =np.array([[0.99241412, 0.90959066, 0.87019008, 0.83406807, 0.80212633],\n",
    "    [1.08277913, 0.99241412, 0.94942589, 0.91001476, 0.87516454],\n",
    "    [1.13180534, 1.03734877, 0.99241412, 0.95121852, 0.91479035],\n",
    "    [1.18082183, 1.08227451, 1.03539382, 0.99241412, 0.95440831],\n",
    "    [1.22784372, 1.12537212, 1.07662458, 1.03193337, 0.99241412]])\n"
   ]
  },
  {
   "cell_type": "markdown",
   "metadata": {},
   "source": [
    "$$\n",
    "K =\n",
    "\\left[\n",
    "\\begin{array}{c}\n",
    "  \\dfrac{\\nabla U(c)}{\\partial U/ \\partial c_1 } \\\\\n",
    " \\vdots \\\\\n",
    "  \\dfrac{\\nabla U(c)}{\\partial U/ \\partial c_n } \\\\\n",
    "\\end{array}\n",
    "\\right]\n",
    "=\n",
    "\\left[\n",
    "\\begin{array}{ccc}\n",
    " \\beta \\dfrac{u'(c_1)}{u'(c_1)} & \\dots & \\beta \\dfrac{u'(c_n)}{u'(c_1)} \\\\\n",
    " \\vdots & \\vdots & \\vdots \\\\\n",
    " \\beta \\dfrac{u'(c_1)}{u'(c_n)} & \\dots & \\beta \\dfrac{u'(c_n)}{u'(c_n)} \\\\\n",
    "\\end{array}\n",
    "\\right]\n",
    "$$\n",
    "  \n",
    "\n",
    "We can see that the diagonal elements of the matrix are determined by our discount factor times the ratio of marginal felicity with consumption in a state with itself. Thus, the diagonal of the pricing kernel should be our constant discount factor.  \n",
    "  \n",
    "The reason that the matrix is not symmetric is that the ratio of marginal felicity is flipped on the corresponding elements that would make the matrix symmetric. Understanding the Markov matrix as a representation of transitions from the row period to the column period, it is reasonable to assume that the transition from state A to state B is not necessarily going to be equal to the transition from state B to state A.\n",
    " "
   ]
  },
  {
   "cell_type": "markdown",
   "metadata": {},
   "source": [
    "### 7. Here is an array of maturities [1, 2, 4, 8, 20, 40, 80, 120] in quarters.  Make a diagram with five yield curves.  Each line in your diagram should consist of a yield curve in a given state."
   ]
  },
  {
   "cell_type": "code",
   "execution_count": 21,
   "metadata": {},
   "outputs": [],
   "source": [
    "def pricing_T(M,K,R,T):\n",
    "    \"\"\"\n",
    "    M is a markov matrix\n",
    "    K is a pricing kernel\n",
    "    R is a matrix of asset payouts.\n",
    "    T is when these assets mature. They all mature at the same time.\n",
    "    The asset returns are by column\n",
    "    \"\"\"\n",
    "    if M.shape != K.shape:\n",
    "        return('Markov matrix and pricing kernels are not conformable.')\n",
    "    if M.shape[1] != R.shape[0]:\n",
    "        return('Asset price matrix is not conformable.')\n",
    "    M1=np.multiply(M,K) #element-by-elemnt multiplication\n",
    "    P = np.matmul(np.linalg.matrix_power(M1,T), R)  \n",
    "    #raise M1 to the T the right multiply by R\n",
    "    return(P)"
   ]
  },
  {
   "cell_type": "code",
   "execution_count": 22,
   "metadata": {},
   "outputs": [],
   "source": [
    "#I assume we're still using arrow securities\n",
    "R = np.array([[1, 1, 0, 0, 0, 0],\n",
    "             [1,0, 1, 0, 0, 0],\n",
    "             [1, 0, 0, 1, 0, 0],\n",
    "             [1,0, 0, 0, 1, 0],\n",
    "            [1,0, 0, 0, 0, 1]])\n",
    "\n",
    "#maturity in quarters.\n",
    "T = [1, 2, 4, 8, 20, 40, 80, 120] "
   ]
  },
  {
   "cell_type": "code",
   "execution_count": 23,
   "metadata": {
    "scrolled": true
   },
   "outputs": [
    {
     "data": {
      "text/plain": [
       "[array([1.74398798, 1.11429043, 1.07057904, 1.02930281, 0.98564589]),\n",
       " array([1.36641025, 1.10463892, 1.06597612, 1.03041133, 0.99186945]),\n",
       " array([1.20242485, 1.0895209 , 1.05902254, 1.03041923, 1.00134681]),\n",
       " array([1.12028726, 1.07037581, 1.04981322, 1.03036039, 1.01200995]),\n",
       " array([1.06703084, 1.04856485, 1.03935906, 1.03061841, 1.02262149]),\n",
       " array([1.04884551, 1.03974492, 1.03515087, 1.03077153, 1.02675436]),\n",
       " array([1.03984811, 1.03532705, 1.03303722, 1.03084967, 1.02883896]),\n",
       " array([1.03686614, 1.03385856, 1.03233361, 1.03087572, 1.02953478])]"
      ]
     },
     "execution_count": 23,
     "metadata": {},
     "output_type": "execute_result"
    }
   ],
   "source": [
    "gross_yield = [0 for i in range(len(T))] \n",
    "\n",
    "\n",
    "for i in range(len(T)):\n",
    "    P = pricing_T(M,K,R,T[i])\n",
    "    bond_price = (P[:,0])\n",
    "    annualized_gross_yield = ((1/bond_price)**(4/T[i]))\n",
    "    gross_yield[i] = annualized_gross_yield\n",
    "gross_yield"
   ]
  },
  {
   "cell_type": "code",
   "execution_count": 24,
   "metadata": {},
   "outputs": [],
   "source": [
    "#transforming so that we can plot this easily\n",
    "\n",
    "gy_state = [0 for i in range(5)] \n",
    "\n",
    "for j in range(5):\n",
    "    state_yield = [0 for i in range(len(T))]\n",
    "    for k in range(len(gross_yield)):\n",
    "        state_yield[k] = gross_yield[k][j]\n",
    "    gy_state[j] = state_yield\n",
    "gy_state;"
   ]
  },
  {
   "cell_type": "code",
   "execution_count": 25,
   "metadata": {
    "scrolled": false
   },
   "outputs": [
    {
     "data": {
      "image/png": "[encoded data removed]",
      "text/plain": [
       "<Figure size 432x288 with 1 Axes>"
      ]
     },
     "metadata": {
      "needs_background": "light"
     },
     "output_type": "display_data"
    }
   ],
   "source": [
    "#plotting\n",
    "x= T\n",
    "y = gy_state\n",
    "plt.plot(x,y[0], label = 'Covid State')\n",
    "plt.plot(x,y[1], label = 'State 1')\n",
    "plt.plot(x,y[2], label = 'State 2')\n",
    "plt.plot(x,y[3], label = 'State 3')\n",
    "plt.plot(x,y[4], label = 'State 4')\n",
    "\n",
    "plt.title('Yield Curves')\n",
    "plt.ylabel('Gross Yield')\n",
    "plt.xlabel('Time of Maturity (in quarters)')\n",
    "plt.legend()\n",
    "plt.show()"
   ]
  },
  {
   "cell_type": "markdown",
   "metadata": {},
   "source": [
    "### 8. Discuss whether an inverted yield curve conveys information about next period's state.  \n",
    "The graph above shows us the relationship with gross yield and amount of time (in quarters) it takes for an asset to mature. Regarding information about the next period's state, we know that the ergodic distribution has the third state being the most likely state for us to be in. We can see the curve converging to 1.03 with all the other ones, so an inverted curve shows the direction, or more likely, state that we will be in next period."
   ]
  },
  {
   "cell_type": "markdown",
   "metadata": {},
   "source": [
    "### 9. The stock market is an asset that pays a dividend equal to the economy's consumption in each quarter.  Price the stock market in each state. "
   ]
  },
  {
   "cell_type": "code",
   "execution_count": 26,
   "metadata": {},
   "outputs": [],
   "source": [
    "# Prices a stock that pays time-varying dividends for T periods.\n",
    "def pricing_stock(M,K,R,T):\n",
    "    \"\"\"\n",
    "    M is a markov matrix\n",
    "    K is a pricing kernel\n",
    "    R is a matrix of asset payouts.  Its columns vary with time\n",
    "    T is the end of the payout stream\n",
    "    \"\"\"\n",
    "    n=M.shape[0] #number of states\n",
    "    if M.shape != K.shape:\n",
    "        return('Markov matrix and pricing kernels are not conformable.')\n",
    "    if M.shape[1] != R.shape[0]:\n",
    "        return('Asset price matrix is not conformable.')\n",
    "    M1=np.multiply(M,K) #element-by-element multiplication\n",
    "    p=np.zeros(n)\n",
    "    for t in range(T):\n",
    "        p += np.matmul(np.linalg.matrix_power(M1,t), R[:,t])  \n",
    "    #raise M1 to the T the right multiply by t-th column of R\n",
    "    # Then add them all up\n",
    "    return(p)"
   ]
  },
  {
   "cell_type": "code",
   "execution_count": 53,
   "metadata": {
    "scrolled": false
   },
   "outputs": [
    {
     "name": "stdout",
     "output_type": "stream",
     "text": [
      "[111.35143791 121.25877605 126.65910432 132.05857024 137.24231996]\n"
     ]
    }
   ],
   "source": [
    "T = 10000\n",
    "R = consumption\n",
    "R2 = R@np.ones((1,10*T)) \n",
    "stocks = pricing_stock(M,K,R2,T)\n",
    "print(stocks)"
   ]
  },
  {
   "cell_type": "markdown",
   "metadata": {},
   "source": [
    "### 10. The first row of the Markov matrix was (0, 0, 1, 0, 0). What is the expected duration of a lockdown for this matrix? Change the first row of the matrix so that it is (p, 0, 1-p, 0, 0) for 0 < p < 1 to simulate a four-period lockdown. What is the correct value of p? I found a long-run probability of being in a Covid state to be 0.01377061 in this case."
   ]
  },
  {
   "cell_type": "markdown",
   "metadata": {},
   "source": [
    "We know that the lockdown period will immediately transition to state 2 with that first row of the Markov matrix. Makes sense since we can see that the  \n",
    "$E(X) = \\frac{1}{1-\\pi_{ii}}$  \n",
    "And if $\\pi_{ii}$ is 0 like the matrix suggests then we have an expected duration of a lockdown to be 1 period.  \n",
    "To change the expected value of a lockdown to be 4 periods, we can change the first p to something that would fullfill $$4 = \\frac{1}{1-p}$$  \n",
    "Which is .75!"
   ]
  },
  {
   "cell_type": "code",
   "execution_count": 28,
   "metadata": {
    "scrolled": false
   },
   "outputs": [
    {
     "name": "stdout",
     "output_type": "stream",
     "text": [
      "[[0.75       0.         0.25       0.         0.        ]\n",
      " [0.         0.55555556 0.44444444 0.         0.        ]\n",
      " [0.         0.06976744 0.62790698 0.30232558 0.        ]\n",
      " [0.00584795 0.00584795 0.06432749 0.81871345 0.10526316]\n",
      " [0.         0.         0.         0.28358209 0.71641791]]\n"
     ]
    }
   ],
   "source": [
    "P = .75\n",
    "\n",
    "Mnew = M\n",
    "Mnew[0][0] = P\n",
    "Mnew[0][2] = 1-P\n",
    "print(Mnew)"
   ]
  },
  {
   "cell_type": "markdown",
   "metadata": {},
   "source": [
    "### 11. Simulate and graph the time series of consumption and the stock market for 400 periods  in the two different scenarios, the one-period lockdown and the four-period lockdown.   You should multiply consumption times 100 to put it on the same scale as the stock market. "
   ]
  },
  {
   "cell_type": "code",
   "execution_count": 63,
   "metadata": {},
   "outputs": [],
   "source": [
    "def simulate(m,x,T):\n",
    "    \"\"\"\n",
    "    This code simulates the outcomes of variable x\n",
    "    x must be a k x n array of the endogenous variables in each state\n",
    "    Each endogenous variable x(i,:) has n numbers. x(i,j) is the value of the i-th variable in state j\n",
    "    m is the n x n Markov matrix that gives transitions between states\n",
    "    T is the time horizon\n",
    "    This method needs the method called ergodic to have been compiled\n",
    "    It returns both the simulated history of states and the simulated random outcomes\n",
    "    states is a T x 1 vector: s0, s1, ...\n",
    "    y is a T x 1 vector x(s0), x(s1), ...\n",
    "    \"\"\"\n",
    "    n = m.shape[0] # number of rows of m is the number of states\n",
    "    k = x.shape[0] # number of endogenous variables\n",
    "    if x.shape[1] != n:  # check that each variable has n values\n",
    "        return('The endogenous variables are not in the proper format')\n",
    "    long_run = ergodic(m).real  # gets the ergodic distribution of m\n",
    "    s0 = np.random.choice(np.arange(0, n), p=long_run[:,0]) # pick a random inital state using π\n",
    "    state=[s0] #array showing history of states, starting with the null history\n",
    "    y = np.zeros((T,k)) \n",
    "    y[0,:]=x[:,s0] # initial value of the simulated outcomes\n",
    "    for t in range(1,T): # we already have used up the null history\n",
    "        s=np.random.choice(np.arange(0, n), p=m[s0,:]) #choose a random state for next period \n",
    "        s0=s #save that new random state\n",
    "        state.append(s) # append it to the history of states\n",
    "        y[t,:]= x[:,s] # the t-th row of outcomes is the s-th column of the endogenous variables\n",
    "    return(state,y)"
   ]
  },
  {
   "cell_type": "code",
   "execution_count": 95,
   "metadata": {},
   "outputs": [],
   "source": [
    "#let's try the scenario where expected duration of lockdowns is 4\n",
    "longstates , longprices =simulate(Mnew,stocks,400)\n"
   ]
  },
  {
   "cell_type": "code",
   "execution_count": 141,
   "metadata": {
    "scrolled": false
   },
   "outputs": [
    {
     "data": {
      "image/png": "[encoded data removed]",
      "text/plain": [
       "<Figure size 432x288 with 1 Axes>"
      ]
     },
     "metadata": {
      "needs_background": "light"
     },
     "output_type": "display_data"
    },
    {
     "data": {
      "image/png": "[encoded data removed]",
      "text/plain": [
       "<Figure size 432x288 with 1 Axes>"
      ]
     },
     "metadata": {
      "needs_background": "light"
     },
     "output_type": "display_data"
    },
    {
     "data": {
      "image/png": "[encoded data removed]",
      "text/plain": [
       "<Figure size 432x288 with 1 Axes>"
      ]
     },
     "metadata": {
      "needs_background": "light"
     },
     "output_type": "display_data"
    }
   ],
   "source": [
    "plt.plot(longprices,color = 'blue')\n",
    "plt.title('Price of simulated stock market over 400 periods with longer lockdowns')\n",
    "plt.show()\n",
    "plt.plot(longstates,color = 'red')\n",
    "plt.title('Simulated States of Nature over 400 period with longer lockdowns')\n",
    "plt.show()\n",
    "\n",
    "plt.plot(longprices,color = 'blue')\n",
    "plt.plot(longstates,color = 'red')\n",
    "plt.title('Simulation Together')\n",
    "\n",
    "plt.show()\n"
   ]
  },
  {
   "cell_type": "markdown",
   "metadata": {},
   "source": [
    "We can see that the time we did go into lockdown, it did not immediately exit the state in the simulation."
   ]
  },
  {
   "cell_type": "code",
   "execution_count": 142,
   "metadata": {},
   "outputs": [],
   "source": [
    "#simulation for just one period of lockdown.\n",
    "states,stockprices =simulate(M,stocks,400)\n"
   ]
  },
  {
   "cell_type": "code",
   "execution_count": 127,
   "metadata": {},
   "outputs": [
    {
     "data": {
      "image/png": "[encoded data removed]",
      "text/plain": [
       "<Figure size 432x288 with 1 Axes>"
      ]
     },
     "metadata": {
      "needs_background": "light"
     },
     "output_type": "display_data"
    },
    {
     "data": {
      "image/png": "[encoded data removed]",
      "text/plain": [
       "<Figure size 432x288 with 1 Axes>"
      ]
     },
     "metadata": {
      "needs_background": "light"
     },
     "output_type": "display_data"
    },
    {
     "data": {
      "image/png": "[encoded data removed]",
      "text/plain": [
       "<Figure size 432x288 with 1 Axes>"
      ]
     },
     "metadata": {
      "needs_background": "light"
     },
     "output_type": "display_data"
    }
   ],
   "source": [
    "plt.plot(stockprices,color = 'blue')\n",
    "plt.title('Price of simulated stock market over 400 periods with original Markov matrix')\n",
    "plt.show()\n",
    "plt.plot(states,color = 'red')\n",
    "plt.title('Simulated States of Nature over 400 period with original Markov matrix')\n",
    "plt.show()\n",
    "\n",
    "plt.plot(stockprices,color = 'blue')\n",
    "plt.plot(states,color = 'red')\n",
    "plt.title('Simulation Together')\n",
    "plt.show()\n"
   ]
  },
  {
   "cell_type": "markdown",
   "metadata": {},
   "source": [
    "## 12. Calculate the welfare loss from a four-period lockdown as the percentage decrease in long-run average consumption, when comparing a four-period lockdown with a one-period one."
   ]
  },
  {
   "cell_type": "markdown",
   "metadata": {},
   "source": [
    "If I'm understanding ergodic probabilities and consumption correctly, I can try to find an expected long-run average consumption $X$ with:  $$ E(X) = \\pi_1 \\times c_1 + ... +\\pi_n \\times c_n$$\n",
    "where $\\pi_n$ is the long-run probability of being in state $n$ and $c_n$ is the consumption for state $n$."
   ]
  },
  {
   "cell_type": "code",
   "execution_count": 143,
   "metadata": {},
   "outputs": [
    {
     "name": "stdout",
     "output_type": "stream",
     "text": [
      "[0.99987358]\n"
     ]
    }
   ],
   "source": [
    "oneperiod = sum(ergodic(M)*consumption) #long-run average consumption for 1 period exit of lockdown\n",
    "print(oneperiod)"
   ]
  },
  {
   "cell_type": "code",
   "execution_count": 144,
   "metadata": {},
   "outputs": [
    {
     "name": "stdout",
     "output_type": "stream",
     "text": [
      "[0.99901776]\n"
     ]
    }
   ],
   "source": [
    "fourperiod = sum(ergodic(Mnew).real*consumption) #long-run average consumption for 4 period exit of lockdown\n",
    "print(fourperiod)"
   ]
  },
  {
   "cell_type": "code",
   "execution_count": 149,
   "metadata": {},
   "outputs": [
    {
     "data": {
      "text/plain": [
       "array([-0.00085582])"
      ]
     },
     "execution_count": 149,
     "metadata": {},
     "output_type": "execute_result"
    }
   ],
   "source": [
    "fourperiod-oneperiod"
   ]
  },
  {
   "cell_type": "markdown",
   "metadata": {},
   "source": [
    "This gave me a .085 percentage point decrease in long-run average consumption. While considering the size of the United States economy, this decrease can still represent a sizable decrease in consumption even when compared to the giant that is the US GDP. Goldstein and Lee discuss at length what the impact of 1 million COVID deaths would be when viewed in certain perspectives. As calculated in the article, the 1 million COVID deaths could amount to roughly $\\$$17.5 trillion in loss of life. The difference between a prolonged lockdown and a much shorter one quarter lockdown becomes much less of an issue when compared to the potential losses from 1 million deaths (As of writing this portion, 493,000 people to date have been reported dead by COVID-related complications in the United States).  \n",
    "It is undeniable that the one-period lockdown has had an extreme short-run effect on the livelihoods of many people around the world, the long-run average consumption does not seem to fall apart if we were to extend that worst-case scenario lockdown. "
   ]
  }
 ],
 "metadata": {
  "kernelspec": {
   "display_name": "Python 3",
   "language": "python",
   "name": "python3"
  },
  "language_info": {
   "codemirror_mode": {
    "name": "ipython",
    "version": 3
   },
   "file_extension": ".py",
   "mimetype": "text/x-python",
   "name": "python",
   "nbconvert_exporter": "python",
   "pygments_lexer": "ipython3",
   "version": "3.8.3"
  }
 },
 "nbformat": 4,
 "nbformat_minor": 4
}
